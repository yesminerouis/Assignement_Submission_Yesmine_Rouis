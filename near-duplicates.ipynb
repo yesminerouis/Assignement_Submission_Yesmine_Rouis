{
 "cells": [
  {
   "cell_type": "markdown",
   "id": "abf9f393",
   "metadata": {},
   "source": [
    "# (Near-) Duplicate detection"
   ]
  },
  {
   "cell_type": "raw",
   "id": "3ce77401",
   "metadata": {},
   "source": [
    "The code below allows to detect the near-duplicates of articles coming from multiples sources."
   ]
  },
  {
   "cell_type": "markdown",
   "id": "41f4ed94",
   "metadata": {},
   "source": [
    "## Import Packages"
   ]
  },
  {
   "cell_type": "code",
   "execution_count": 1,
   "id": "b2883ed1",
   "metadata": {},
   "outputs": [],
   "source": [
    "import glob\n",
    "import json\n",
    "import string\n",
    "import re\n",
    "#import binascii\n",
    "import pandas as pd"
   ]
  },
  {
   "cell_type": "code",
   "execution_count": 2,
   "id": "e9875ee7",
   "metadata": {},
   "outputs": [
    {
     "name": "stdout",
     "output_type": "stream",
     "text": [
      "The file bnl-adn-20210908-13103301.json has been successfuly read!\n",
      "The file bnl-bddenbosch-20210908-13103301.json has been successfuly read!\n",
      "The file bnl-ttenschede-20210908-13103592.json has been successfuly read!\n"
     ]
    }
   ],
   "source": [
    "# Define the files pattern and read the json files using glob package\n",
    "pattern = 'bnl-*.json'\n",
    "files = glob.glob(pattern)\n",
    "jsonSourceObject = {}\n",
    "\n",
    "for file in files:\n",
    "    with open(file) as jsonFile:\n",
    "        jsonObject = json.load(jsonFile)\n",
    "        jsonObjectPublisher = jsonObject['_source']['item']['provider']['id']        \n",
    "        jsonSourceObject[jsonObjectPublisher] = jsonObject['_source']['item']['body']\n",
    "        print(\"The file %s\" % (file) +\" has been successfuly read!\")\n",
    "        jsonFile.close()"
   ]
  },
  {
   "cell_type": "code",
   "execution_count": 3,
   "id": "6d9d0963",
   "metadata": {},
   "outputs": [],
   "source": [
    "# Storing all contents in list \n",
    "rows = []\n",
    "for publisher_source, publisher_source_articles in jsonSourceObject.items():\n",
    "    for i in range(0, len(publisher_source_articles)):\n",
    "        rows.append([\n",
    "            publisher_source,\n",
    "            publisher_source_articles[i]['content']\n",
    "        ])"
   ]
  },
  {
   "cell_type": "code",
   "execution_count": 4,
   "id": "d7f87a30",
   "metadata": {},
   "outputs": [],
   "source": [
    "# Store the rows in a dataframe\n",
    "df = pd.DataFrame(rows, columns=['publisher','content'])"
   ]
  },
  {
   "cell_type": "code",
   "execution_count": 5,
   "id": "bccd2d7e",
   "metadata": {},
   "outputs": [],
   "source": [
    "def clean_content(content):\n",
    "    \"\"\" Clean the content string \"\"\"\n",
    "    # Remove any punctuation mark\n",
    "    content = content.translate(str.maketrans('', '', string.punctuation)) \n",
    "    # Transform all leters to lower cases\n",
    "    content = content.lower()\n",
    "    # Convert extra white spaces as a single blank\n",
    "    content = re.sub(' +', ' ', content)\n",
    "    \n",
    "    return content"
   ]
  },
  {
   "cell_type": "code",
   "execution_count": 6,
   "id": "85fd00d5",
   "metadata": {},
   "outputs": [
    {
     "data": {
      "text/html": [
       "<div>\n",
       "<style scoped>\n",
       "    .dataframe tbody tr th:only-of-type {\n",
       "        vertical-align: middle;\n",
       "    }\n",
       "\n",
       "    .dataframe tbody tr th {\n",
       "        vertical-align: top;\n",
       "    }\n",
       "\n",
       "    .dataframe thead th {\n",
       "        text-align: right;\n",
       "    }\n",
       "</style>\n",
       "<table border=\"1\" class=\"dataframe\">\n",
       "  <thead>\n",
       "    <tr style=\"text-align: right;\">\n",
       "      <th></th>\n",
       "      <th>publisher</th>\n",
       "      <th>content</th>\n",
       "      <th>cleaned_content</th>\n",
       "    </tr>\n",
       "  </thead>\n",
       "  <tbody>\n",
       "    <tr>\n",
       "      <th>0</th>\n",
       "      <td>adn</td>\n",
       "      <td>Kamerlid Pieter Omtzigt wil niet terug naar we...</td>\n",
       "      <td>kamerlid pieter omtzigt wil niet terug naar we...</td>\n",
       "    </tr>\n",
       "    <tr>\n",
       "      <th>1</th>\n",
       "      <td>adn</td>\n",
       "      <td>Pieter Omtzigt is al meer dan honderd dagen th...</td>\n",
       "      <td>pieter omtzigt is al meer dan honderd dagen th...</td>\n",
       "    </tr>\n",
       "    <tr>\n",
       "      <th>2</th>\n",
       "      <td>adn</td>\n",
       "      <td>'Ik heb lang tegen mijn besluit aangehikt'</td>\n",
       "      <td>ik heb lang tegen mijn besluit aangehikt</td>\n",
       "    </tr>\n",
       "    <tr>\n",
       "      <th>3</th>\n",
       "      <td>adn</td>\n",
       "      <td>Kelly Adams Enschede</td>\n",
       "      <td>kelly adams enschede</td>\n",
       "    </tr>\n",
       "    <tr>\n",
       "      <th>4</th>\n",
       "      <td>adn</td>\n",
       "      <td>De bospaden en parken rondom zijn huis kent Pi...</td>\n",
       "      <td>de bospaden en parken rondom zijn huis kent pi...</td>\n",
       "    </tr>\n",
       "  </tbody>\n",
       "</table>\n",
       "</div>"
      ],
      "text/plain": [
       "  publisher                                            content  \\\n",
       "0       adn  Kamerlid Pieter Omtzigt wil niet terug naar we...   \n",
       "1       adn  Pieter Omtzigt is al meer dan honderd dagen th...   \n",
       "2       adn         'Ik heb lang tegen mijn besluit aangehikt'   \n",
       "3       adn                               Kelly Adams Enschede   \n",
       "4       adn  De bospaden en parken rondom zijn huis kent Pi...   \n",
       "\n",
       "                                     cleaned_content  \n",
       "0  kamerlid pieter omtzigt wil niet terug naar we...  \n",
       "1  pieter omtzigt is al meer dan honderd dagen th...  \n",
       "2           ik heb lang tegen mijn besluit aangehikt  \n",
       "3                               kelly adams enschede  \n",
       "4  de bospaden en parken rondom zijn huis kent pi...  "
      ]
     },
     "execution_count": 6,
     "metadata": {},
     "output_type": "execute_result"
    }
   ],
   "source": [
    "# Apply the clean_content function the the content column in the dataframe\n",
    "df['cleaned_content'] = df['content'].apply(clean_content)\n",
    "df.head()"
   ]
  },
  {
   "cell_type": "markdown",
   "id": "73beabbe",
   "metadata": {},
   "source": [
    "# Shingling process\n",
    "    \n",
    "    "
   ]
  },
  {
   "cell_type": "raw",
   "id": "e846a924",
   "metadata": {},
   "source": [
    "This section converts article contents to shingle sets defined as 3-words shingles. "
   ]
  },
  {
   "cell_type": "code",
   "execution_count": 7,
   "id": "328b36fd",
   "metadata": {},
   "outputs": [],
   "source": [
    "def get_content_shingles(text, size):\n",
    "    \"\"\" Converts a string to a set of size-shingles \"\"\"\n",
    "    tokens = text.split()\n",
    "    return [' '.join(tokens[i:i+size])\n",
    "                     for i in range(len(tokens) - size + 1)]"
   ]
  },
  {
   "cell_type": "code",
   "execution_count": 8,
   "id": "1180dcfe",
   "metadata": {},
   "outputs": [],
   "source": [
    "# Construct shingles for every content within the dataframe\n",
    "shingle_order = 3\n",
    "df['shingles'] = df['cleaned_content'].apply(get_content_shingles, size=shingle_order)  "
   ]
  },
  {
   "cell_type": "code",
   "execution_count": 9,
   "id": "fb837b3f",
   "metadata": {},
   "outputs": [
    {
     "data": {
      "text/html": [
       "<div>\n",
       "<style scoped>\n",
       "    .dataframe tbody tr th:only-of-type {\n",
       "        vertical-align: middle;\n",
       "    }\n",
       "\n",
       "    .dataframe tbody tr th {\n",
       "        vertical-align: top;\n",
       "    }\n",
       "\n",
       "    .dataframe thead th {\n",
       "        text-align: right;\n",
       "    }\n",
       "</style>\n",
       "<table border=\"1\" class=\"dataframe\">\n",
       "  <thead>\n",
       "    <tr style=\"text-align: right;\">\n",
       "      <th></th>\n",
       "      <th>publisher</th>\n",
       "      <th>content</th>\n",
       "      <th>cleaned_content</th>\n",
       "      <th>shingles</th>\n",
       "    </tr>\n",
       "  </thead>\n",
       "  <tbody>\n",
       "    <tr>\n",
       "      <th>0</th>\n",
       "      <td>adn</td>\n",
       "      <td>Kamerlid Pieter Omtzigt wil niet terug naar we...</td>\n",
       "      <td>kamerlid pieter omtzigt wil niet terug naar we...</td>\n",
       "      <td>[kamerlid pieter omtzigt, pieter omtzigt wil, ...</td>\n",
       "    </tr>\n",
       "    <tr>\n",
       "      <th>1</th>\n",
       "      <td>adn</td>\n",
       "      <td>Pieter Omtzigt is al meer dan honderd dagen th...</td>\n",
       "      <td>pieter omtzigt is al meer dan honderd dagen th...</td>\n",
       "      <td>[pieter omtzigt is, omtzigt is al, is al meer,...</td>\n",
       "    </tr>\n",
       "    <tr>\n",
       "      <th>2</th>\n",
       "      <td>adn</td>\n",
       "      <td>'Ik heb lang tegen mijn besluit aangehikt'</td>\n",
       "      <td>ik heb lang tegen mijn besluit aangehikt</td>\n",
       "      <td>[ik heb lang, heb lang tegen, lang tegen mijn,...</td>\n",
       "    </tr>\n",
       "    <tr>\n",
       "      <th>3</th>\n",
       "      <td>adn</td>\n",
       "      <td>Kelly Adams Enschede</td>\n",
       "      <td>kelly adams enschede</td>\n",
       "      <td>[kelly adams enschede]</td>\n",
       "    </tr>\n",
       "    <tr>\n",
       "      <th>4</th>\n",
       "      <td>adn</td>\n",
       "      <td>De bospaden en parken rondom zijn huis kent Pi...</td>\n",
       "      <td>de bospaden en parken rondom zijn huis kent pi...</td>\n",
       "      <td>[de bospaden en, bospaden en parken, en parken...</td>\n",
       "    </tr>\n",
       "  </tbody>\n",
       "</table>\n",
       "</div>"
      ],
      "text/plain": [
       "  publisher                                            content  \\\n",
       "0       adn  Kamerlid Pieter Omtzigt wil niet terug naar we...   \n",
       "1       adn  Pieter Omtzigt is al meer dan honderd dagen th...   \n",
       "2       adn         'Ik heb lang tegen mijn besluit aangehikt'   \n",
       "3       adn                               Kelly Adams Enschede   \n",
       "4       adn  De bospaden en parken rondom zijn huis kent Pi...   \n",
       "\n",
       "                                     cleaned_content  \\\n",
       "0  kamerlid pieter omtzigt wil niet terug naar we...   \n",
       "1  pieter omtzigt is al meer dan honderd dagen th...   \n",
       "2           ik heb lang tegen mijn besluit aangehikt   \n",
       "3                               kelly adams enschede   \n",
       "4  de bospaden en parken rondom zijn huis kent pi...   \n",
       "\n",
       "                                            shingles  \n",
       "0  [kamerlid pieter omtzigt, pieter omtzigt wil, ...  \n",
       "1  [pieter omtzigt is, omtzigt is al, is al meer,...  \n",
       "2  [ik heb lang, heb lang tegen, lang tegen mijn,...  \n",
       "3                             [kelly adams enschede]  \n",
       "4  [de bospaden en, bospaden en parken, en parken...  "
      ]
     },
     "execution_count": 9,
     "metadata": {},
     "output_type": "execute_result"
    }
   ],
   "source": [
    "df.head()"
   ]
  },
  {
   "cell_type": "markdown",
   "id": "3f591664",
   "metadata": {},
   "source": [
    "## Jaccard Similarity"
   ]
  },
  {
   "cell_type": "raw",
   "id": "b870a8f9",
   "metadata": {},
   "source": [
    "The Jaccard similarity measures the overlap between two sets, hence measures their similarity."
   ]
  },
  {
   "cell_type": "code",
   "execution_count": 10,
   "id": "af1cd820",
   "metadata": {},
   "outputs": [],
   "source": [
    "def jaccard(set1, set2):\n",
    "    \"\"\" Computes the Jaccard similarity between two sets \"\"\"\n",
    "    x = len(set1.intersection(set2))\n",
    "    y = len(set1.union(set2))\n",
    "    return x / y"
   ]
  },
  {
   "cell_type": "code",
   "execution_count": 11,
   "id": "0868b68b",
   "metadata": {},
   "outputs": [],
   "source": [
    "def get_duplicate_type(x):\n",
    "    \"\"\" Returns the duplicate's type \n",
    "    Returns one from: near duplicate, perfect duplicate\"\"\"\n",
    "    type_ = 'near duplicate'\n",
    "    if x==1:\n",
    "        type_ = 'perfect duplicate'\n",
    "    return type_\n",
    "    "
   ]
  },
  {
   "cell_type": "code",
   "execution_count": 12,
   "id": "fa2f0858",
   "metadata": {},
   "outputs": [
    {
     "name": "stdout",
     "output_type": "stream",
     "text": [
      "division by zero\n",
      "division by zero\n",
      "division by zero\n",
      "division by zero\n",
      "division by zero\n",
      "division by zero\n"
     ]
    }
   ],
   "source": [
    "near_duplicates_items = []\n",
    "minimum_similarity_threshold = 0.8\n",
    "for i in range(len(df)):\n",
    "    for j in range(i+1, len(df)):\n",
    "        try:\n",
    "            jaccard_similarity = jaccard(set(df['shingles'][i]), set(df['shingles'][j]))\n",
    "            if jaccard_similarity>=minimum_similarity_threshold:\n",
    "                near_duplicates_items.append([                   \n",
    "                    df['publisher'][i],\n",
    "                    df['content'][i],\n",
    "                    df['publisher'][j],\n",
    "                    df['content'][j],\n",
    "                    jaccard_similarity,\n",
    "                    get_duplicate_type(jaccard_similarity)\n",
    "                ])\n",
    "                #print(i, j, jaccard_similarity)\n",
    "        except Exception as e:\n",
    "            print(e)"
   ]
  },
  {
   "cell_type": "code",
   "execution_count": 13,
   "id": "46f879ea",
   "metadata": {},
   "outputs": [],
   "source": [
    "near_duplicates_result = pd.DataFrame(near_duplicates_items, columns=['Publisher', 'Content', 'Publisher', 'Content', 'Jaccard Similarity', 'Duplicate Type'])"
   ]
  },
  {
   "cell_type": "code",
   "execution_count": 14,
   "id": "3c4df890",
   "metadata": {},
   "outputs": [],
   "source": [
    "near_duplicates_result.to_csv('near_duplicates_result.csv')"
   ]
  },
  {
   "cell_type": "code",
   "execution_count": 15,
   "id": "9a9a7cd0",
   "metadata": {},
   "outputs": [
    {
     "data": {
      "text/html": [
       "<div>\n",
       "<style scoped>\n",
       "    .dataframe tbody tr th:only-of-type {\n",
       "        vertical-align: middle;\n",
       "    }\n",
       "\n",
       "    .dataframe tbody tr th {\n",
       "        vertical-align: top;\n",
       "    }\n",
       "\n",
       "    .dataframe thead th {\n",
       "        text-align: right;\n",
       "    }\n",
       "</style>\n",
       "<table border=\"1\" class=\"dataframe\">\n",
       "  <thead>\n",
       "    <tr style=\"text-align: right;\">\n",
       "      <th></th>\n",
       "      <th>Publisher</th>\n",
       "      <th>Content</th>\n",
       "      <th>Publisher</th>\n",
       "      <th>Content</th>\n",
       "      <th>Jaccard Similarity</th>\n",
       "      <th>Duplicate Type</th>\n",
       "    </tr>\n",
       "  </thead>\n",
       "  <tbody>\n",
       "    <tr>\n",
       "      <th>0</th>\n",
       "      <td>adn</td>\n",
       "      <td>Kamerlid Pieter Omtzigt wil niet terug naar we...</td>\n",
       "      <td>bddenbosch</td>\n",
       "      <td>Kamerlid Pieter Omtzigt wil niet terug naar we...</td>\n",
       "      <td>1.0</td>\n",
       "      <td>perfect duplicate</td>\n",
       "    </tr>\n",
       "    <tr>\n",
       "      <th>1</th>\n",
       "      <td>adn</td>\n",
       "      <td>Pieter Omtzigt is al meer dan honderd dagen th...</td>\n",
       "      <td>bddenbosch</td>\n",
       "      <td>Pieter Omtzigt is al meer dan honderd dagen th...</td>\n",
       "      <td>1.0</td>\n",
       "      <td>perfect duplicate</td>\n",
       "    </tr>\n",
       "    <tr>\n",
       "      <th>2</th>\n",
       "      <td>adn</td>\n",
       "      <td>'Ik heb lang tegen mijn besluit aangehikt'</td>\n",
       "      <td>bddenbosch</td>\n",
       "      <td>'Ik heb lang tegen mijn besluit aangehikt'</td>\n",
       "      <td>1.0</td>\n",
       "      <td>perfect duplicate</td>\n",
       "    </tr>\n",
       "    <tr>\n",
       "      <th>3</th>\n",
       "      <td>adn</td>\n",
       "      <td>De bospaden en parken rondom zijn huis kent Pi...</td>\n",
       "      <td>bddenbosch</td>\n",
       "      <td>De bospaden en parken rondom zijn huis kent Pi...</td>\n",
       "      <td>1.0</td>\n",
       "      <td>perfect duplicate</td>\n",
       "    </tr>\n",
       "    <tr>\n",
       "      <th>4</th>\n",
       "      <td>adn</td>\n",
       "      <td>Maandenlang hield de politicus zich stil. Hij ...</td>\n",
       "      <td>bddenbosch</td>\n",
       "      <td>Maandenlang hield de politicus zich stil. Hij ...</td>\n",
       "      <td>1.0</td>\n",
       "      <td>perfect duplicate</td>\n",
       "    </tr>\n",
       "  </tbody>\n",
       "</table>\n",
       "</div>"
      ],
      "text/plain": [
       "  Publisher                                            Content   Publisher  \\\n",
       "0       adn  Kamerlid Pieter Omtzigt wil niet terug naar we...  bddenbosch   \n",
       "1       adn  Pieter Omtzigt is al meer dan honderd dagen th...  bddenbosch   \n",
       "2       adn         'Ik heb lang tegen mijn besluit aangehikt'  bddenbosch   \n",
       "3       adn  De bospaden en parken rondom zijn huis kent Pi...  bddenbosch   \n",
       "4       adn  Maandenlang hield de politicus zich stil. Hij ...  bddenbosch   \n",
       "\n",
       "                                             Content  Jaccard Similarity  \\\n",
       "0  Kamerlid Pieter Omtzigt wil niet terug naar we...                 1.0   \n",
       "1  Pieter Omtzigt is al meer dan honderd dagen th...                 1.0   \n",
       "2         'Ik heb lang tegen mijn besluit aangehikt'                 1.0   \n",
       "3  De bospaden en parken rondom zijn huis kent Pi...                 1.0   \n",
       "4  Maandenlang hield de politicus zich stil. Hij ...                 1.0   \n",
       "\n",
       "      Duplicate Type  \n",
       "0  perfect duplicate  \n",
       "1  perfect duplicate  \n",
       "2  perfect duplicate  \n",
       "3  perfect duplicate  \n",
       "4  perfect duplicate  "
      ]
     },
     "execution_count": 15,
     "metadata": {},
     "output_type": "execute_result"
    }
   ],
   "source": [
    "near_duplicates_result.head()"
   ]
  }
 ],
 "metadata": {
  "kernelspec": {
   "display_name": "Python 3",
   "language": "python",
   "name": "python3"
  },
  "language_info": {
   "codemirror_mode": {
    "name": "ipython",
    "version": 3
   },
   "file_extension": ".py",
   "mimetype": "text/x-python",
   "name": "python",
   "nbconvert_exporter": "python",
   "pygments_lexer": "ipython3",
   "version": "3.8.8"
  }
 },
 "nbformat": 4,
 "nbformat_minor": 5
}
